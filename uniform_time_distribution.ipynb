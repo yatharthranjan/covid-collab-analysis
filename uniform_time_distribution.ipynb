{
 "cells": [
  {
   "cell_type": "code",
   "execution_count": 1,
   "metadata": {},
   "outputs": [],
   "source": [
    "import pandas as pd"
   ]
  },
  {
   "cell_type": "code",
   "execution_count": 2,
   "metadata": {},
   "outputs": [],
   "source": [
    "import numpy as np"
   ]
  },
  {
   "cell_type": "code",
   "execution_count": 3,
   "metadata": {},
   "outputs": [],
   "source": [
    "# date range of 03-01-2021 : 03-05-2021\n",
    "x = [pd.Timestamp('2021-01-03'), pd.Timestamp('2021-02-03'), pd.Timestamp('2021-03-03'), pd.Timestamp('2021-04-03'), pd.Timestamp('2021-05-03')]"
   ]
  },
  {
   "cell_type": "code",
   "execution_count": 10,
   "metadata": {},
   "outputs": [
    {
     "name": "stdout",
     "output_type": "stream",
     "text": [
      "Creating uniform distribution of len: 5 and time range: 2021-01-03 00:00:00, 2021-05-03 00:00:00\n",
      "[1.61283039e+09 1.61335124e+09 1.61290834e+09 1.61614076e+09\n",
      " 1.61666654e+09]\n",
      "[Timestamp('2021-02-09 00:26:25.328832150'), Timestamp('2021-02-15 01:07:15.613287926'), Timestamp('2021-02-09 22:05:41.884088755'), Timestamp('2021-03-19 07:59:17.124601841'), Timestamp('2021-03-25 10:02:15.256086588')]\n"
     ]
    }
   ],
   "source": [
    "# generate a uniform distribution between the time ranges\n",
    "n = len(x)\n",
    "start = min(x)\n",
    "end = max(x)\n",
    "\n",
    "print(f'Creating uniform distribution of len: {n} and time range: {start}, {end}')\n",
    "\n",
    "s = np.random.uniform(start.timestamp(),end.timestamp(),n)\n",
    "print(s)\n",
    "\n",
    "s_d = [pd.to_datetime(x, unit='s') for x in s]\n",
    "\n",
    "print(s_d)"
   ]
  },
  {
   "cell_type": "code",
   "execution_count": 14,
   "metadata": {},
   "outputs": [
    {
     "name": "stdout",
     "output_type": "stream",
     "text": [
      "[1609632000.0, 1612310400.0, 1614729600.0, 1617408000.0, 1620000000.0]\n"
     ]
    },
    {
     "data": {
      "text/plain": [
       "0.873015873015873"
      ]
     },
     "execution_count": 14,
     "metadata": {},
     "output_type": "execute_result"
    }
   ],
   "source": [
    "x_t = [i.timestamp() for i in x]\n",
    "\n",
    "print(x_t)\n",
    "\n",
    "from scipy.stats import ks_2samp\n",
    "ks_2samp(s, x_t).pvalue"
   ]
  }
 ],
 "metadata": {
  "kernelspec": {
   "display_name": "Python 3",
   "language": "python",
   "name": "python3"
  },
  "language_info": {
   "codemirror_mode": {
    "name": "ipython",
    "version": 3
   },
   "file_extension": ".py",
   "mimetype": "text/x-python",
   "name": "python",
   "nbconvert_exporter": "python",
   "pygments_lexer": "ipython3",
   "version": "3.8.5"
  }
 },
 "nbformat": 4,
 "nbformat_minor": 4
}
