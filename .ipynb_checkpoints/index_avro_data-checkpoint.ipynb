{
 "cells": [
  {
   "cell_type": "code",
   "execution_count": 4,
   "metadata": {},
   "outputs": [
    {
     "name": "stdout",
     "output_type": "stream",
     "text": [
      "Collecting paramiko\n",
      "  Downloading paramiko-2.7.2-py2.py3-none-any.whl (206 kB)\n",
      "\u001b[K     |████████████████████████████████| 206 kB 15.4 MB/s eta 0:00:01\n",
      "\u001b[?25hCollecting scp\n",
      "  Downloading scp-0.13.3-py2.py3-none-any.whl (8.2 kB)\n",
      "Collecting bcrypt>=3.1.3\n",
      "  Downloading bcrypt-3.2.0-cp36-abi3-manylinux2010_x86_64.whl (63 kB)\n",
      "\u001b[K     |████████████████████████████████| 63 kB 168 kB/s  eta 0:00:01\n",
      "\u001b[?25hCollecting pynacl>=1.0.1\n",
      "  Downloading PyNaCl-1.4.0-cp35-abi3-manylinux1_x86_64.whl (961 kB)\n",
      "\u001b[K     |████████████████████████████████| 961 kB 44.5 MB/s eta 0:00:01\n",
      "\u001b[?25hRequirement already satisfied: cryptography>=2.5 in /opt/conda/lib/python3.8/site-packages (from paramiko) (3.1.1)\n",
      "Requirement already satisfied: six>=1.4.1 in /opt/conda/lib/python3.8/site-packages (from bcrypt>=3.1.3->paramiko) (1.15.0)\n",
      "Requirement already satisfied: cffi>=1.1 in /opt/conda/lib/python3.8/site-packages (from bcrypt>=3.1.3->paramiko) (1.14.3)\n",
      "Requirement already satisfied: pycparser in /opt/conda/lib/python3.8/site-packages (from cffi>=1.1->bcrypt>=3.1.3->paramiko) (2.20)\n",
      "Installing collected packages: bcrypt, pynacl, paramiko, scp\n",
      "Successfully installed bcrypt-3.2.0 paramiko-2.7.2 pynacl-1.4.0 scp-0.13.3\n"
     ]
    }
   ],
   "source": [
    "# Install dependencies\n",
    "!pip3 install paramiko scp"
   ]
  },
  {
   "cell_type": "code",
   "execution_count": 27,
   "metadata": {},
   "outputs": [
    {
     "name": "stdout",
     "output_type": "stream",
     "text": [
      "Collecting avro-python3\n",
      "  Downloading avro-python3-1.10.2.tar.gz (38 kB)\n",
      "Building wheels for collected packages: avro-python3\n",
      "  Building wheel for avro-python3 (setup.py) ... \u001b[?25ldone\n",
      "\u001b[?25h  Created wheel for avro-python3: filename=avro_python3-1.10.2-py3-none-any.whl size=44010 sha256=f16a95cc6652ac6f8c06d5fa3548e4a4ba6a5f0b7012dd1e2750bdf571f88db3\n",
      "  Stored in directory: /home/jovyan/.cache/pip/wheels/bb/73/e9/d273421f5723c4bf544dcf9eb097bda94421ef8d3252699f0a\n",
      "Successfully built avro-python3\n",
      "Installing collected packages: avro-python3\n",
      "Successfully installed avro-python3-1.10.2\n"
     ]
    }
   ],
   "source": [
    "!pip install avro-python3"
   ]
  },
  {
   "cell_type": "code",
   "execution_count": 30,
   "metadata": {},
   "outputs": [
    {
     "name": "stdout",
     "output_type": "stream",
     "text": [
      "Collecting python-snappy\n",
      "  Downloading python_snappy-0.6.0-cp38-cp38-manylinux2010_x86_64.whl (54 kB)\n",
      "\u001b[K     |████████████████████████████████| 54 kB 977 kB/s  eta 0:00:01\n",
      "\u001b[?25hInstalling collected packages: python-snappy\n",
      "Successfully installed python-snappy-0.6.0\n"
     ]
    }
   ],
   "source": [
    "!pip install python-snappy"
   ]
  },
  {
   "cell_type": "code",
   "execution_count": null,
   "metadata": {},
   "outputs": [],
   "source": []
  },
  {
   "cell_type": "code",
   "execution_count": 1,
   "metadata": {},
   "outputs": [],
   "source": [
    "# This notebook is for indexing the files in SFTP server.\n",
    "# It indexes by user id and time of the records"
   ]
  },
  {
   "cell_type": "code",
   "execution_count": null,
   "metadata": {},
   "outputs": [],
   "source": [
    "# import libraries"
   ]
  },
  {
   "cell_type": "code",
   "execution_count": 21,
   "metadata": {},
   "outputs": [],
   "source": [
    "from sftp_client import RemoteClient"
   ]
  },
  {
   "cell_type": "code",
   "execution_count": null,
   "metadata": {},
   "outputs": [],
   "source": [
    "# Create SFTP client"
   ]
  },
  {
   "cell_type": "code",
   "execution_count": 22,
   "metadata": {},
   "outputs": [],
   "source": [
    "host = 'radar-base-nas.brc.iop.kcl.ac.uk'\n",
    "user = 'yranjan'\n",
    "ssh_key_filepath = 'truenas'\n",
    "remote_path = '/mnt/pool0/covid_collab/topics'\n",
    "\n",
    "local_file_directory = 'data'\n",
    "\n",
    "client = RemoteClient(host, user, ssh_key_filepath, remote_path)"
   ]
  },
  {
   "cell_type": "code",
   "execution_count": 25,
   "metadata": {},
   "outputs": [
    {
     "data": {
      "text/plain": [
       "<paramiko.client.SSHClient at 0x7f4baf0b3580>"
      ]
     },
     "execution_count": 25,
     "metadata": {},
     "output_type": "execute_result"
    }
   ],
   "source": [
    "client._connect()"
   ]
  },
  {
   "cell_type": "code",
   "execution_count": 26,
   "metadata": {},
   "outputs": [
    {
     "ename": "AttributeError",
     "evalue": "'RemoteClient' object has no attribute 'connect'",
     "output_type": "error",
     "traceback": [
      "\u001b[0;31m---------------------------------------------------------------------------\u001b[0m",
      "\u001b[0;31mAttributeError\u001b[0m                            Traceback (most recent call last)",
      "\u001b[0;32m<ipython-input-26-66e9c06a082f>\u001b[0m in \u001b[0;36m<module>\u001b[0;34m\u001b[0m\n\u001b[0;32m----> 1\u001b[0;31m \u001b[0mclient\u001b[0m\u001b[0;34m.\u001b[0m\u001b[0mdownload_file\u001b[0m\u001b[0;34m(\u001b[0m\u001b[0mremote_path\u001b[0m\u001b[0;34m)\u001b[0m\u001b[0;34m\u001b[0m\u001b[0;34m\u001b[0m\u001b[0m\n\u001b[0m",
      "\u001b[0;32m~/work/covid-collab/sftp_client.py\u001b[0m in \u001b[0;36mdownload_file\u001b[0;34m(self, file)\u001b[0m\n\u001b[1;32m    116\u001b[0m         \u001b[0mlogger\u001b[0m\u001b[0;34m.\u001b[0m\u001b[0minfo\u001b[0m\u001b[0;34m(\u001b[0m\u001b[0;34mf'Finished uploading {len(uploads)} files to {self.remote_path} on {self.host}'\u001b[0m\u001b[0;34m)\u001b[0m\u001b[0;34m\u001b[0m\u001b[0;34m\u001b[0m\u001b[0m\n\u001b[1;32m    117\u001b[0m \u001b[0;34m\u001b[0m\u001b[0m\n\u001b[0;32m--> 118\u001b[0;31m \u001b[0;34m\u001b[0m\u001b[0m\n\u001b[0m\u001b[1;32m    119\u001b[0m \u001b[0;34m\u001b[0m\u001b[0m\n\u001b[1;32m    120\u001b[0m     \u001b[0;32mdef\u001b[0m \u001b[0mdownload_file\u001b[0m\u001b[0;34m(\u001b[0m\u001b[0mself\u001b[0m\u001b[0;34m,\u001b[0m \u001b[0mfile\u001b[0m\u001b[0;34m)\u001b[0m\u001b[0;34m:\u001b[0m\u001b[0;34m\u001b[0m\u001b[0;34m\u001b[0m\u001b[0m\n",
      "\u001b[0;31mAttributeError\u001b[0m: 'RemoteClient' object has no attribute 'connect'"
     ]
    }
   ],
   "source": [
    "client.download_file(remote_path)"
   ]
  },
  {
   "cell_type": "code",
   "execution_count": null,
   "metadata": {},
   "outputs": [],
   "source": [
    "# Read existing file names and hashes to compare and only update files which have changed hash values (similar to rsync)"
   ]
  },
  {
   "cell_type": "code",
   "execution_count": 1,
   "metadata": {},
   "outputs": [],
   "source": [
    "import copy\n",
    "import json\n",
    "import avro\n",
    "from avro.datafile import DataFileWriter, DataFileReader\n",
    "from avro.io import DatumWriter, DatumReader\n",
    "import asyncio"
   ]
  },
  {
   "cell_type": "code",
   "execution_count": null,
   "metadata": {},
   "outputs": [],
   "source": [
    "# Read data from an avro file\n",
    "with open('connect_fitbit_intraday_heart_rate+0+1509748614+1509759980.avro', 'rb') as f:\n",
    "    reader = DataFileReader(f, DatumReader())\n",
    "    metadata = copy.deepcopy(reader.meta)\n",
    "    schema_from_file = json.loads(metadata['avro.schema'])\n",
    "    datum = [data for data in reader]\n",
    "    reader.close()\n",
    "\n",
    "asyncio.create_task(process_data(datum, schema))"
   ]
  },
  {
   "cell_type": "code",
   "execution_count": null,
   "metadata": {},
   "outputs": [],
   "source": [
    "# Process tasks with coroutines\n",
    "\n",
    "list_files = []\n",
    "\n",
    "for fi in list_files:\n",
    "    with open(fi, 'rb') as f:\n",
    "    reader = DataFileReader(f, DatumReader())\n",
    "    metadata = copy.deepcopy(reader.meta)\n",
    "    schema_from_file = json.loads(metadata['avro.schema'])\n",
    "    datum = [data for data in reader]\n",
    "    reader.close()\n",
    "    \n",
    "    asyncio.create_task(process_data(datum, schema))"
   ]
  },
  {
   "cell_type": "code",
   "execution_count": 10,
   "metadata": {},
   "outputs": [],
   "source": [
    "import datetime\n",
    "import os\n",
    "from pathlib import Path"
   ]
  },
  {
   "cell_type": "code",
   "execution_count": null,
   "metadata": {},
   "outputs": [],
   "source": []
  },
  {
   "cell_type": "code",
   "execution_count": null,
   "metadata": {},
   "outputs": [],
   "source": [
    "time_column = 'time'\n",
    "data_extract_path = 'data/avro/'\n",
    "\n",
    "async def process_data(data, schema):\n",
    "    \"\"\"\n",
    "    This restructures the data into the format /{projectId}/{userId}/{date}.avro\n",
    "    So groups by projectId and userId and creates a single avro for each day.\n",
    "    \"\"\"\n",
    "    for data in datum:\n",
    "        projectId = data['key']['projectId']\n",
    "        userId = data['key']['userId']\n",
    "        data_path = os.path.join(data_extract_path, projectId, userId)\n",
    "        try:\n",
    "            os.makedirs(data_path)\n",
    "        except FileExistsError:\n",
    "            pass\n",
    "        time = datetime.datetime.fromtimestamp(data['value'][time_column])\n",
    "        my_file = Path(os.path.join(data_path, time.date(), '.avro'))\n",
    "        my_file_lock = Path(os.path.join(data_path, time.date(), '.lock'))\n",
    "        \n",
    "        while my_file_lock.exists():\n",
    "            # while another thread is processing this file, we do not write to it\n",
    "            await time.sleep(0.1)\n",
    "        try:\n",
    "            my_abs_path = my_file.resolve(strict=True)\n",
    "        except FileNotFoundError:\n",
    "            # doesn't exist\n",
    "            # open with write mode\n",
    "            \n",
    "            # TODO: acquire lock\n",
    "            \n",
    "            await with open(my_file, 'wb') as f:\n",
    "                writer = DataFileWriter(f, DatumWriter(), schema)\n",
    "                writer.append(data)\n",
    "                writer.close()\n",
    "        else:\n",
    "            # exists\n",
    "            # open in append mode\n",
    "            \n",
    "            # TODO: acquire lock\n",
    "            \n",
    "            await with open(my_file, 'ab') as f:\n",
    "                writer = DataFileWriter(f, DatumWriter(), schema)\n",
    "                writer.append(data)\n",
    "                writer.close()\n",
    "        finally:\n",
    "            # TODO: delete lock file\n",
    "                \n",
    "                "
   ]
  },
  {
   "cell_type": "code",
   "execution_count": 5,
   "metadata": {},
   "outputs": [
    {
     "data": {
      "text/plain": [
       "{'key': {'projectId': 'RADAR-AIIMS-2-TRIALS-KCL-s1',\n",
       "  'userId': 'cdc4bf33-c76c-4a51-b9ee-f326c5b50846',\n",
       "  'sourceId': 'a226a6d5-f208-457c-a38a-17ea9a0593f8'},\n",
       " 'value': {'time': 1619433468.0,\n",
       "  'timeReceived': 1619520049.776,\n",
       "  'timeInterval': 1,\n",
       "  'heartRate': 75}}"
      ]
     },
     "metadata": {},
     "output_type": "display_data"
    }
   ],
   "source": [
    "display(users[0])"
   ]
  },
  {
   "cell_type": "code",
   "execution_count": 14,
   "metadata": {},
   "outputs": [
    {
     "name": "stdout",
     "output_type": "stream",
     "text": [
      "2021-04-26\n"
     ]
    }
   ],
   "source": [
    "print(datetime.datetime.fromtimestamp(1619433468.0).date())"
   ]
  },
  {
   "cell_type": "code",
   "execution_count": null,
   "metadata": {},
   "outputs": [],
   "source": []
  },
  {
   "cell_type": "code",
   "execution_count": null,
   "metadata": {},
   "outputs": [],
   "source": []
  },
  {
   "cell_type": "code",
   "execution_count": null,
   "metadata": {},
   "outputs": [],
   "source": [
    "# read each avro file and index according to userId and time"
   ]
  },
  {
   "cell_type": "code",
   "execution_count": null,
   "metadata": {},
   "outputs": [],
   "source": [
    "# Use couroutines and tasks to make this process faster"
   ]
  },
  {
   "cell_type": "code",
   "execution_count": null,
   "metadata": {},
   "outputs": [],
   "source": [
    "# check hash"
   ]
  },
  {
   "cell_type": "code",
   "execution_count": null,
   "metadata": {},
   "outputs": [],
   "source": []
  },
  {
   "cell_type": "code",
   "execution_count": null,
   "metadata": {},
   "outputs": [],
   "source": []
  },
  {
   "cell_type": "code",
   "execution_count": null,
   "metadata": {},
   "outputs": [],
   "source": []
  },
  {
   "cell_type": "code",
   "execution_count": null,
   "metadata": {},
   "outputs": [],
   "source": []
  },
  {
   "cell_type": "code",
   "execution_count": null,
   "metadata": {},
   "outputs": [],
   "source": []
  },
  {
   "cell_type": "code",
   "execution_count": null,
   "metadata": {},
   "outputs": [],
   "source": []
  },
  {
   "cell_type": "code",
   "execution_count": null,
   "metadata": {},
   "outputs": [],
   "source": []
  }
 ],
 "metadata": {
  "kernelspec": {
   "display_name": "Python 3",
   "language": "python",
   "name": "python3"
  },
  "language_info": {
   "codemirror_mode": {
    "name": "ipython",
    "version": 3
   },
   "file_extension": ".py",
   "mimetype": "text/x-python",
   "name": "python",
   "nbconvert_exporter": "python",
   "pygments_lexer": "ipython3",
   "version": "3.8.5"
  }
 },
 "nbformat": 4,
 "nbformat_minor": 4
}
